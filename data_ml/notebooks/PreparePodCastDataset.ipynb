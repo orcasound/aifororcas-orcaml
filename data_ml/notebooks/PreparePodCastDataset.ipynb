{
 "cells": [
  {
   "cell_type": "code",
   "execution_count": 1,
   "metadata": {},
   "outputs": [],
   "source": [
    "import os, sys, glob, json, shutil\n",
    "import librosa\n",
    "import pandas as pd\n",
    "import numpy as np\n",
    "import seaborn as sns\n",
    "import matplotlib.pyplot as plt\n",
    "from pathlib import Path"
   ]
  },
  {
   "cell_type": "code",
   "execution_count": 2,
   "metadata": {},
   "outputs": [],
   "source": [
    "%load_ext autoreload\n",
    "%autoreload 1"
   ]
  },
  {
   "cell_type": "code",
   "execution_count": 6,
   "metadata": {},
   "outputs": [],
   "source": [
    "%aimport src.dataloader\n",
    "%aimport src.datautils\n",
    "%aimport src.params"
   ]
  },
  {
   "cell_type": "markdown",
   "metadata": {},
   "source": [
    "# Fetch Annotated data from Blob"
   ]
  },
  {
   "cell_type": "code",
   "execution_count": 7,
   "metadata": {},
   "outputs": [],
   "source": [
    "# TODO: automate this part as well\n",
    "annotations_dir = \"../data/AnnotationRound2/OS_7_05_2019_Curated_chunked_annotations\"\n",
    "positives_dir = \"../data/AnnotationRound2/OS_7_05_2019_Curated_chunked\"\n",
    "negatives_dir = \"../data/AnnotationRound2/OS_7_05_2019_Curated_chunked_negatives\"\n",
    "target_data_dir = \"../data/DataArchives/Round2_OS_07_05\""
   ]
  },
  {
   "cell_type": "markdown",
   "metadata": {},
   "source": [
    "# Parse and make dataset"
   ]
  },
  {
   "cell_type": "code",
   "execution_count": null,
   "metadata": {},
   "outputs": [],
   "source": [
    "# annotations, positive wavs, negative wavs, target directory \n",
    "# parse JSON annotations to TSV, add annotations for negative chunks \n",
    "# (optional) merge with a previous dataset \n",
    "# (optional) split a held-out dev set "
   ]
  },
  {
   "cell_type": "code",
   "execution_count": 79,
   "metadata": {},
   "outputs": [
    {
     "name": "stdout",
     "output_type": "stream",
     "text": [
      "Splitting 57 wavfiles into 8 dev files\n",
      "Copying over files ..\n"
     ]
    },
    {
     "name": "stderr",
     "output_type": "stream",
     "text": [
      "100%|████████████████████████████████████████████████████████████████████████████████████████████████████████████████████████| 57/57 [00:00<00:00, 98.62it/s]\n",
      "0it [00:00, ?it/s]\n"
     ]
    }
   ],
   "source": [
    "np.random.seed(10)\n",
    "df, wavfile_map = src.datautils.make_dataset(annotations_dir, positives_dir, negatives_dir, target_data_dir, \n",
    "                                             data_source=\"Orcasound_PodCast_Round2\", location=\"orcasound_lab\")"
   ]
  },
  {
   "cell_type": "code",
   "execution_count": 12,
   "metadata": {},
   "outputs": [
    {
     "data": {
      "text/html": [
       "<div>\n",
       "<style scoped>\n",
       "    .dataframe tbody tr th:only-of-type {\n",
       "        vertical-align: middle;\n",
       "    }\n",
       "\n",
       "    .dataframe tbody tr th {\n",
       "        vertical-align: top;\n",
       "    }\n",
       "\n",
       "    .dataframe thead th {\n",
       "        text-align: right;\n",
       "    }\n",
       "</style>\n",
       "<table border=\"1\" class=\"dataframe\">\n",
       "  <thead>\n",
       "    <tr style=\"text-align: right;\">\n",
       "      <th></th>\n",
       "      <th>wav_filename</th>\n",
       "      <th>start_time_s</th>\n",
       "      <th>duration_s</th>\n",
       "      <th>location</th>\n",
       "      <th>date</th>\n",
       "      <th>data_source</th>\n",
       "      <th>data_source_id</th>\n",
       "    </tr>\n",
       "  </thead>\n",
       "  <tbody>\n",
       "    <tr>\n",
       "      <td>0</td>\n",
       "      <td>1562337136_0004.wav</td>\n",
       "      <td>49.765625</td>\n",
       "      <td>2.450000</td>\n",
       "      <td>orcasound_lab</td>\n",
       "      <td>2019-07-05</td>\n",
       "      <td>Orcasound_PodCast_Round2</td>\n",
       "      <td>1562337136</td>\n",
       "    </tr>\n",
       "    <tr>\n",
       "      <td>1</td>\n",
       "      <td>1562337136_0004.wav</td>\n",
       "      <td>41.046007</td>\n",
       "      <td>1.658854</td>\n",
       "      <td>orcasound_lab</td>\n",
       "      <td>2019-07-05</td>\n",
       "      <td>Orcasound_PodCast_Round2</td>\n",
       "      <td>1562337136</td>\n",
       "    </tr>\n",
       "    <tr>\n",
       "      <td>2</td>\n",
       "      <td>1562337136_0004.wav</td>\n",
       "      <td>37.345486</td>\n",
       "      <td>1.743924</td>\n",
       "      <td>orcasound_lab</td>\n",
       "      <td>2019-07-05</td>\n",
       "      <td>Orcasound_PodCast_Round2</td>\n",
       "      <td>1562337136</td>\n",
       "    </tr>\n",
       "    <tr>\n",
       "      <td>3</td>\n",
       "      <td>1562337136_0004.wav</td>\n",
       "      <td>42.917535</td>\n",
       "      <td>2.594618</td>\n",
       "      <td>orcasound_lab</td>\n",
       "      <td>2019-07-05</td>\n",
       "      <td>Orcasound_PodCast_Round2</td>\n",
       "      <td>1562337136</td>\n",
       "    </tr>\n",
       "    <tr>\n",
       "      <td>4</td>\n",
       "      <td>1562337136_0004.wav</td>\n",
       "      <td>45.980035</td>\n",
       "      <td>2.041667</td>\n",
       "      <td>orcasound_lab</td>\n",
       "      <td>2019-07-05</td>\n",
       "      <td>Orcasound_PodCast_Round2</td>\n",
       "      <td>1562337136</td>\n",
       "    </tr>\n",
       "  </tbody>\n",
       "</table>\n",
       "</div>"
      ],
      "text/plain": [
       "          wav_filename  start_time_s  duration_s       location        date  \\\n",
       "0  1562337136_0004.wav     49.765625    2.450000  orcasound_lab  2019-07-05   \n",
       "1  1562337136_0004.wav     41.046007    1.658854  orcasound_lab  2019-07-05   \n",
       "2  1562337136_0004.wav     37.345486    1.743924  orcasound_lab  2019-07-05   \n",
       "3  1562337136_0004.wav     42.917535    2.594618  orcasound_lab  2019-07-05   \n",
       "4  1562337136_0004.wav     45.980035    2.041667  orcasound_lab  2019-07-05   \n",
       "\n",
       "                data_source data_source_id  \n",
       "0  Orcasound_PodCast_Round2     1562337136  \n",
       "1  Orcasound_PodCast_Round2     1562337136  \n",
       "2  Orcasound_PodCast_Round2     1562337136  \n",
       "3  Orcasound_PodCast_Round2     1562337136  \n",
       "4  Orcasound_PodCast_Round2     1562337136  "
      ]
     },
     "execution_count": 12,
     "metadata": {},
     "output_type": "execute_result"
    }
   ],
   "source": [
    "df.head()"
   ]
  },
  {
   "cell_type": "code",
   "execution_count": 80,
   "metadata": {},
   "outputs": [
    {
     "name": "stdout",
     "output_type": "stream",
     "text": [
      "wav_filename           1562344334_0005.wav\n",
      "start_time_s                       21.3991\n",
      "duration_s                         2.60547\n",
      "location                     orcasound_lab\n",
      "date                            2019-07-05\n",
      "data_source       Orcasound_PodCast_Round2\n",
      "data_source_id                  1562344334\n",
      "Name: 344, dtype: object\n"
     ]
    },
    {
     "data": {
      "image/png": "[encoded data removed]",
      "text/plain": [
       "<Figure size 432x288 with 1 Axes>"
      ]
     },
     "metadata": {
      "needs_background": "light"
     },
     "output_type": "display_data"
    }
   ],
   "source": [
    "# inspect a few random annotations \n",
    "row = df.iloc[np.random.randint(len(df))]; print(row)\n",
    "af = src.dataloader.AudioFile(Path(positives_dir)/row[\"wav_filename\"], src.params.SAMPLE_RATE)\n",
    "start_idx = int(row[\"start_time_s\"]*src.params.SAMPLE_RATE) \n",
    "end_idx = int(start_idx + row[\"duration_s\"]*src.params.SAMPLE_RATE)\n",
    "_ = plt.imshow(af.get_window(start_idx, end_idx).T)"
   ]
  },
  {
   "cell_type": "markdown",
   "metadata": {},
   "source": [
    "# Load with Dataloader and add mean, invstd"
   ]
  },
  {
   "cell_type": "code",
   "execution_count": 86,
   "metadata": {
    "scrolled": true
   },
   "outputs": [
    {
     "name": "stdout",
     "output_type": "stream",
     "text": [
      "Loading file: 1562337136_0004.wav\n",
      "Loading file: 1562337136_0006.wav\n",
      "Loading file: 1562337136_000a.wav\n",
      "Loading file: 1562337136_000b.wav\n",
      "Loading file: 1562337136_000c.wav\n",
      "Loading file: 1562337136_000e.wav\n",
      "Loading file: 1562337136_0010.wav\n",
      "Loading file: 1562337136_0012.wav\n",
      "Loading file: 1562337136_0013.wav\n",
      "Loading file: 1562337136_0017.wav\n",
      "Loading file: 1562337136_0018.wav\n",
      "Loading file: 1562337136_0019.wav\n",
      "Loading file: 1562340736_0001.wav\n",
      "Loading file: 1562340736_0004.wav\n",
      "Loading file: 1562340736_0005.wav\n",
      "Loading file: 1562340736_0006.wav\n",
      "Loading file: 1562340736_0007.wav\n",
      "Loading file: 1562340736_0008.wav\n",
      "Loading file: 1562340736_0009.wav\n",
      "Loading file: 1562340736_000a.wav\n",
      "Loading file: 1562340736_000c.wav\n",
      "Loading file: 1562340736_000d.wav\n",
      "Loading file: 1562340736_000e.wav\n",
      "Loading file: 1562340736_000f.wav\n",
      "Loading file: 1562340736_0010.wav\n",
      "Loading file: 1562340736_0011.wav\n",
      "Loading file: 1562340736_0012.wav\n",
      "Loading file: 1562340736_0013.wav\n",
      "Loading file: 1562340736_0014.wav\n",
      "Loading file: 1562340736_0015.wav\n",
      "Loading file: 1562340736_0016.wav\n",
      "Loading file: 1562340736_0017.wav\n",
      "Loading file: 1562340736_0018.wav\n",
      "Loading file: 1562340736_0019.wav\n",
      "Loading file: 1562340736_001b.wav\n",
      "Loading file: 1562340736_001c.wav\n",
      "Loading file: 1562344334_0001.wav\n",
      "Loading file: 1562344334_0002.wav\n",
      "Loading file: 1562344334_0003.wav\n",
      "Loading file: 1562344334_0004.wav\n",
      "Loading file: 1562344334_0005.wav\n",
      "Loading file: 1562344334_0006.wav\n",
      "Loading file: 1562344334_0007.wav\n",
      "Loading file: 1562344334_0008.wav\n",
      "Loading file: 1562344334_000a.wav\n",
      "Loading file: 1562344334_000b.wav\n",
      "Loading file: 1562344334_000c.wav\n",
      "Loading file: 1562344334_000e.wav\n",
      "Loading file: 1562344334_000f.wav\n",
      "Loading file: 1562344334_001c.wav\n"
     ]
    }
   ],
   "source": [
    "wav_dataset = src.dataloader.AudioFileDataset(Path(target_data_dir)/\"wav\",Path(target_data_dir)/\"train.tsv\")"
   ]
  },
  {
   "cell_type": "code",
   "execution_count": 87,
   "metadata": {},
   "outputs": [
    {
     "name": "stdout",
     "output_type": "stream",
     "text": [
      "Dataset size: 1539 windows, 1.047375 hrs\n"
     ]
    },
    {
     "data": {
      "image/png": "[encoded data removed]",
      "text/plain": [
       "<Figure size 432x288 with 1 Axes>"
      ]
     },
     "metadata": {
      "needs_background": "light"
     },
     "output_type": "display_data"
    }
   ],
   "source": [
    "num_windows = len(wav_dataset); num_hrs = num_windows*src.params.WINDOW_S/3600\n",
    "print(\"Dataset size: {} windows, {} hrs\".format(num_windows, num_hrs))\n",
    "labels = [l[2] for l in wav_dataset.windows]\n",
    "_ = sns.countplot(labels)"
   ]
  },
  {
   "cell_type": "code",
   "execution_count": 83,
   "metadata": {},
   "outputs": [
    {
     "name": "stderr",
     "output_type": "stream",
     "text": [
      "100%|███████████████████████████████████████████████████████████████████████████████████████████████████████████████████| 1539/1539 [00:06<00:00, 227.38it/s]\n",
      "100%|███████████████████████████████████████████████████████████████████████████████████████████████████████████████████| 1539/1539 [00:06<00:00, 230.20it/s]\n"
     ]
    }
   ],
   "source": [
    "src.datautils.compute_dataset_stats(target_data_dir, wav_dataset)"
   ]
  },
  {
   "cell_type": "markdown",
   "metadata": {},
   "source": [
    "# Remaining Steps"
   ]
  },
  {
   "cell_type": "markdown",
   "metadata": {},
   "source": [
    "At this stage, you should have (`train/dev.tsv`) files, and a `wav` subdirectory containing source files pointed to in the TSV file. In addition, `mean/invstd*.txt` will also be generated that are used by the Pod.Cast baseline model. \n",
    "\n",
    "Finally, before compressing into an archive, a suitable REAMDE.md file should be added describing some statistics, and details about the dataset generation process. See [existing datasets](https://github.com/orcasound/orcadata/wiki/Pod.Cast-data-archive) for examples/details. "
   ]
  },
  {
   "cell_type": "code",
   "execution_count": null,
   "metadata": {},
   "outputs": [],
   "source": []
  }
 ],
 "metadata": {
  "kernelspec": {
   "display_name": "Python (p36tfgpu)",
   "language": "python",
   "name": "p36tfgpu"
  },
  "language_info": {
   "codemirror_mode": {
    "name": "ipython",
    "version": 3
   },
   "file_extension": ".py",
   "mimetype": "text/x-python",
   "name": "python",
   "nbconvert_exporter": "python",
   "pygments_lexer": "ipython3",
   "version": "3.6.6"
  }
 },
 "nbformat": 4,
 "nbformat_minor": 2
}
